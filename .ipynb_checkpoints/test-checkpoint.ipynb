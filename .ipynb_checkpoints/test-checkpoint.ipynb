{
 "cells": [
  {
   "cell_type": "code",
   "execution_count": 2,
   "metadata": {},
   "outputs": [],
   "source": [
    "from collections import OrderedDict\n",
    "from pprint import pprint\n",
    "\n",
    "import pandas as pd\n",
    "import numpy as np\n",
    "from matplotlib import pyplot as plt\n",
    "from sklearn import preprocessing"
   ]
  },
  {
   "cell_type": "code",
   "execution_count": 3,
   "metadata": {},
   "outputs": [
    {
     "name": "stdout",
     "output_type": "stream",
     "text": [
      "OrderedDict([('Type', 2),\n",
      "             ('Name', 9060),\n",
      "             ('Age', 106),\n",
      "             ('Breed1', 176),\n",
      "             ('Breed2', 135),\n",
      "             ('Gender', 3),\n",
      "             ('Color1', 7),\n",
      "             ('Color2', 7),\n",
      "             ('Color3', 6),\n",
      "             ('MaturitySize', 4),\n",
      "             ('FurLength', 3),\n",
      "             ('Vaccinated', 3),\n",
      "             ('Dewormed', 3),\n",
      "             ('Sterilized', 3),\n",
      "             ('Health', 3),\n",
      "             ('Quantity', 19),\n",
      "             ('Fee', 74),\n",
      "             ('State', 14),\n",
      "             ('RescuerID', 5595),\n",
      "             ('VideoAmt', 9),\n",
      "             ('Description', 14032),\n",
      "             ('PetID', 14993),\n",
      "             ('PhotoAmt', 31),\n",
      "             ('AdoptionSpeed', 5)])\n"
     ]
    }
   ],
   "source": [
    "df = pd.read_csv('train/train.csv')\n",
    "df_colcount = pd.DataFrame({\n",
    "    'columns': df.columns,\n",
    "    'n_unique': [df[col].nunique() for col in df.columns]\n",
    "})\n",
    "colcount = OrderedDict((col, df[col].nunique()) for col in df.columns)\n",
    "pprint(colcount)"
   ]
  },
  {
   "cell_type": "code",
   "execution_count": 7,
   "metadata": {},
   "outputs": [],
   "source": [
    "df = df.fillna(value={'Name': 'No Name', 'Description': ''})\n",
    "target = 'AdoptionSpeed'\n",
    "y = df[target]\n",
    "X = df.drop(columns=target)\n",
    "\n",
    "col_txt = ['Description']\n",
    "col_q = []\n",
    "X_cat = X.drop(columns=col_txt+col_q)"
   ]
  },
  {
   "cell_type": "code",
   "execution_count": 12,
   "metadata": {},
   "outputs": [
    {
     "name": "stdout",
     "output_type": "stream",
     "text": [
      "   Type         Name  Age  Breed1  Breed2  Gender  Color1  Color2  Color3  \\\n",
      "0     2       Nibble    3     299       0       1       1       7       0   \n",
      "1     2  No Name Yet    1     265       0       1       1       2       0   \n",
      "2     1       Brisco    1     307       0       1       2       7       0   \n",
      "3     1         Miko    4     307       0       2       1       2       0   \n",
      "4     1       Hunter    1     307       0       1       1       0       0   \n",
      "\n",
      "   MaturitySize  ...  Dewormed  Sterilized  Health  Quantity  Fee  State  \\\n",
      "0             1  ...         2           2       1         1  100  41326   \n",
      "1             2  ...         3           3       1         1    0  41401   \n",
      "2             2  ...         1           2       1         1    0  41326   \n",
      "3             2  ...         1           2       1         1  150  41401   \n",
      "4             2  ...         2           2       1         1    0  41326   \n",
      "\n",
      "                          RescuerID  VideoAmt      PetID  PhotoAmt  \n",
      "0  8480853f516546f6cf33aa88cd76c379         0  86e1089a3       1.0  \n",
      "1  3082c7125d8fb66f7dd4bff4192c8b14         0  6296e909a       2.0  \n",
      "2  fa90fa5b1ee11c86938398b60abc32cb         0  3422e4906       7.0  \n",
      "3  9238e4f44c71a75282e62f7136c6b240         0  5842f1ff5       8.0  \n",
      "4  95481e953f8aed9ec3d16fc4509537e8         0  850a43f90       3.0  \n",
      "\n",
      "[5 rows x 22 columns]\n",
      "[array([1, 2]), array(['!', '! Med Long Fur Kittens', '!!! URGENT!!!', ...,\n",
      "       'ð\\x9f\\x92\\x97ð\\x9f\\x92\\x97Solid Black Kittenð\\x9f\\x92\\x97ð\\x9f\\x92\\x97',\n",
      "       'ð\\x9f\\x92\\x9cð\\x9f\\x92\\x9b 3 Kittens & A Mama ð\\x9f\\x92\\x9cð\\x9f\\x92\\x96',\n",
      "       'ð\\x9f\\x92°ð\\x9f\\x90¾88ð\\x9f\\x90¾ð\\x9f\\x92°FattFatt'], dtype=object), array([  0,   1,   2,   3,   4,   5,   6,   7,   8,   9,  10,  11,  12,\n",
      "        13,  14,  15,  16,  17,  18,  19,  20,  21,  22,  23,  24,  25,\n",
      "        26,  27,  28,  29,  30,  31,  32,  33,  34,  35,  36,  37,  38,\n",
      "        39,  40,  41,  42,  43,  44,  45,  46,  47,  48,  49,  50,  51,\n",
      "        52,  53,  54,  55,  56,  57,  60,  61,  62,  63,  64,  65,  66,\n",
      "        67,  68,  69,  72,  73,  74,  75,  76,  77,  78,  80,  81,  82,\n",
      "        84,  85,  86,  87,  88,  89,  91,  92,  95,  96, 100, 102, 108,\n",
      "       112, 117, 120, 122, 123, 132, 135, 144, 147, 156, 168, 180, 212,\n",
      "       238, 255]), array([  0,   1,   3,   5,   7,  10,  11,  15,  16,  17,  18,  19,  20,\n",
      "        21,  23,  24,  25,  26,  31,  32,  39,  42,  44,  49,  50,  56,\n",
      "        58,  60,  61,  64,  65,  69,  70,  71,  72,  75,  76,  78,  81,\n",
      "        82,  83,  85,  88,  93,  97,  98,  99, 100, 102, 103, 105, 108,\n",
      "       109, 111, 114, 117, 119, 122, 123, 125, 128, 129, 130, 132, 139,\n",
      "       141, 143, 145, 146, 147, 148, 150, 152, 154, 155, 165, 167, 169,\n",
      "       173, 176, 178, 179, 182, 185, 187, 188, 189, 190, 192, 195, 197,\n",
      "       199, 200, 201, 202, 203, 204, 205, 206, 207, 212, 213, 214, 215,\n",
      "       217, 218, 224, 227, 228, 231, 232, 233, 234, 237, 239, 240, 241,\n",
      "       242, 243, 244, 245, 246, 247, 248, 249, 250, 251, 252, 253, 254,\n",
      "       256, 257, 260, 262, 263, 264, 265, 266, 267, 268, 269, 270, 271,\n",
      "       272, 273, 274, 276, 277, 279, 280, 281, 282, 283, 284, 285, 286,\n",
      "       287, 288, 289, 290, 292, 293, 294, 295, 296, 297, 298, 299, 300,\n",
      "       301, 302, 303, 304, 305, 306, 307]), array([  0,   1,   2,   4,   5,  10,  14,  16,  17,  18,  19,  20,  21,\n",
      "        24,  25,  26,  36,  39,  40,  44,  49,  50,  58,  60,  65,  69,\n",
      "        70,  72,  75,  76,  78,  83,  96,  98, 102, 103, 104, 109, 111,\n",
      "       115, 117, 119, 122, 128, 129, 130, 141, 146, 147, 150, 152, 155,\n",
      "       159, 167, 169, 173, 176, 178, 179, 182, 187, 188, 189, 190, 192,\n",
      "       195, 200, 201, 202, 203, 204, 205, 206, 207, 210, 212, 213, 218,\n",
      "       227, 228, 237, 239, 240, 241, 242, 243, 245, 246, 247, 248, 249,\n",
      "       250, 251, 252, 254, 256, 257, 260, 262, 263, 264, 265, 266, 267,\n",
      "       268, 270, 271, 272, 274, 276, 277, 278, 279, 282, 283, 284, 285,\n",
      "       288, 289, 290, 291, 292, 293, 294, 295, 296, 299, 300, 301, 302,\n",
      "       303, 304, 305, 306, 307]), array([1, 2, 3]), array([1, 2, 3, 4, 5, 6, 7]), array([0, 2, 3, 4, 5, 6, 7]), array([0, 3, 4, 5, 6, 7]), array([1, 2, 3, 4]), array([1, 2, 3]), array([1, 2, 3]), array([1, 2, 3]), array([1, 2, 3]), array([1, 2, 3]), array([ 1,  2,  3,  4,  5,  6,  7,  8,  9, 10, 11, 12, 13, 14, 15, 16, 17,\n",
      "       18, 20]), array([   0,    1,    2,    5,    8,    9,   10,   14,   15,   20,   25,\n",
      "         30,   35,   38,   40,   45,   48,   50,   59,   60,   65,   70,\n",
      "         72,   75,   80,   88,   89,   90,   99,  100,  108,  110,  115,\n",
      "        120,  125,  135,  150,  155,  160,  170,  180,  188,  190,  200,\n",
      "        210,  220,  235,  250,  270,  280,  299,  300,  320,  330,  350,\n",
      "        380,  385,  390,  400,  450,  480,  499,  500,  550,  599,  600,\n",
      "        650,  688,  700,  750,  800, 1000, 2000, 3000]), array([41324, 41325, 41326, 41327, 41330, 41332, 41335, 41336, 41342,\n",
      "       41345, 41361, 41367, 41401, 41415]), array(['0007e457eb0583479bb888d54764911f',\n",
      "       '0008ef529da74e9701db7eaaa4d9115a',\n",
      "       '000a5830787b64da2d61b0bbceb7676d', ...,\n",
      "       'ffe9d666deaad333538c341dc3a39d9a',\n",
      "       'ffed83297757c1c19681024e7ee670aa',\n",
      "       'fff59afa6278380c938b2a5880ecae79'], dtype=object), array([0, 1, 2, 3, 4, 5, 6, 7, 8]), array(['0008c5398', '000a290e4', '000fb9572', ..., 'fffa39a6a',\n",
      "       'fffd78a11', 'fffd9b5a8'], dtype=object), array([ 0.,  1.,  2.,  3.,  4.,  5.,  6.,  7.,  8.,  9., 10., 11., 12.,\n",
      "       13., 14., 15., 16., 17., 18., 19., 20., 21., 22., 23., 24., 25.,\n",
      "       26., 27., 28., 29., 30.])]\n",
      "(14993, 30256)\n",
      "  (0, 1)\t1.0\n",
      "  (0, 5989)\t1.0\n",
      "  (0, 9065)\t1.0\n",
      "  (0, 9335)\t1.0\n",
      "  (0, 9344)\t1.0\n",
      "  (0, 9479)\t1.0\n",
      "  (0, 9482)\t1.0\n",
      "  (0, 9495)\t1.0\n",
      "  (0, 9496)\t1.0\n",
      "  (0, 9502)\t1.0\n",
      "  (0, 9506)\t1.0\n",
      "  (0, 9510)\t1.0\n",
      "  (0, 9513)\t1.0\n",
      "  (0, 9516)\t1.0\n",
      "  (0, 9518)\t1.0\n",
      "  (0, 9521)\t1.0\n",
      "  (0, 9569)\t1.0\n",
      "  (0, 9616)\t1.0\n",
      "  (0, 12560)\t1.0\n",
      "  (0, 15223)\t1.0\n",
      "  (0, 22989)\t1.0\n",
      "  (0, 30226)\t1.0\n",
      "  (1, 1)\t1.0\n",
      "  (1, 6044)\t1.0\n",
      "  (1, 9063)\t1.0\n",
      "  :\t:\n",
      "  (14991, 15223)\t1.0\n",
      "  (14991, 28567)\t1.0\n",
      "  (14991, 30228)\t1.0\n",
      "  (14992, 0)\t1.0\n",
      "  (14992, 3053)\t1.0\n",
      "  (14992, 9063)\t1.0\n",
      "  (14992, 9343)\t1.0\n",
      "  (14992, 9478)\t1.0\n",
      "  (14992, 9479)\t1.0\n",
      "  (14992, 9483)\t1.0\n",
      "  (14992, 9489)\t1.0\n",
      "  (14992, 9496)\t1.0\n",
      "  (14992, 9503)\t1.0\n",
      "  (14992, 9506)\t1.0\n",
      "  (14992, 9510)\t1.0\n",
      "  (14992, 9513)\t1.0\n",
      "  (14992, 9516)\t1.0\n",
      "  (14992, 9518)\t1.0\n",
      "  (14992, 9521)\t1.0\n",
      "  (14992, 9540)\t1.0\n",
      "  (14992, 9619)\t1.0\n",
      "  (14992, 13151)\t1.0\n",
      "  (14992, 15223)\t1.0\n",
      "  (14992, 25018)\t1.0\n",
      "  (14992, 30226)\t1.0\n"
     ]
    }
   ],
   "source": [
    "ohe = preprocessing.OneHotEncoder()\n",
    "print(X_cat.head())\n",
    "ohe.fit(X_cat.reset_index(drop=True))\n",
    "print(list(ohe.categories_))\n",
    "X_oh = ohe.transform(X_cat.reset_index(drop=True))\n",
    "print(X_oh.shape)\n",
    "print(X_oh)"
   ]
  },
  {
   "cell_type": "code",
   "execution_count": 13,
   "metadata": {},
   "outputs": [
    {
     "name": "stdout",
     "output_type": "stream",
     "text": [
      "14\n"
     ]
    }
   ],
   "source": [
    "x = {'a':(1, 2), 'b': (2, 4), 'c': (3,8)}"
   ]
  },
  {
   "cell_type": "code",
   "execution_count": null,
   "metadata": {},
   "outputs": [],
   "source": [
    "col_idx = [\n",
    "    (emb_size[i-1], m) for i, (m, d) in enumerate([(0,0)] + emb_size)\n",
    "][1:]"
   ]
  }
 ],
 "metadata": {
  "kernelspec": {
   "display_name": "pet",
   "language": "python",
   "name": "pet"
  },
  "language_info": {
   "codemirror_mode": {
    "name": "ipython",
    "version": 3
   },
   "file_extension": ".py",
   "mimetype": "text/x-python",
   "name": "python",
   "nbconvert_exporter": "python",
   "pygments_lexer": "ipython3",
   "version": "3.7.9"
  }
 },
 "nbformat": 4,
 "nbformat_minor": 4
}
